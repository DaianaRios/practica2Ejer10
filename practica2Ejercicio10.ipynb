{
 "cells": [
  {
   "cell_type": "markdown",
   "id": "9c3010b7",
   "metadata": {},
   "source": [
    "# Practica2 Ejercicio10\n"
   ]
  },
  {
   "cell_type": "markdown",
   "id": "802a650f",
   "metadata": {},
   "source": [
    "Primero abri los archivos \n",
    "Luego leo los archivos , con el split me genera una lista con las palabras y notas separadas"
   ]
  },
  {
   "cell_type": "markdown",
   "id": "cdab355b",
   "metadata": {},
   "source": [
    "En el primer for recorro las tres listas simultaneamente, voy sumando las notas y luego guardo\n",
    "en el diccionario el nombre como clave y la nota como valor "
   ]
  },
  {
   "cell_type": "markdown",
   "id": "d4f58d26",
   "metadata": {},
   "source": [
    "En el segundo for recorro el diccionario y voy sumando todas las notas de los alumnos\n",
    "Calculo el promedio"
   ]
  },
  {
   "cell_type": "markdown",
   "id": "674fce27",
   "metadata": {},
   "source": [
    "En el tercer for recorro el diccionario y voy preguntando si la nota de cada alumno es menor que el promedio entonces \n",
    "informo el nombre del alumno"
   ]
  },
  {
   "cell_type": "code",
   "execution_count": 1,
   "id": "5f78b9a7",
   "metadata": {},
   "outputs": [
    {
     "name": "stdout",
     "output_type": "stream",
     "text": [
      "el alumno que esta por debajo del promedio es: 'CESAR',\n",
      "el alumno que esta por debajo del promedio es: 'Diego',\n",
      "el alumno que esta por debajo del promedio es: 'Dolores',\n",
      "el alumno que esta por debajo del promedio es: 'DYLAN',\n",
      "el alumno que esta por debajo del promedio es: 'ELIANA',\n",
      "el alumno que esta por debajo del promedio es: 'Emanuel',\n",
      "el alumno que esta por debajo del promedio es: 'GONZALO',\n",
      "el alumno que esta por debajo del promedio es: 'Gregorio',\n",
      "el alumno que esta por debajo del promedio es: 'Ignacio',\n",
      "el alumno que esta por debajo del promedio es: 'Jonathan',\n",
      "el alumno que esta por debajo del promedio es: 'Jorge',\n",
      "el alumno que esta por debajo del promedio es: 'JUAN',\n",
      "el alumno que esta por debajo del promedio es: 'Julian',\n",
      "el alumno que esta por debajo del promedio es: 'Leonel',\n",
      "el alumno que esta por debajo del promedio es: 'Nicolás',\n",
      "el alumno que esta por debajo del promedio es: 'NICOLÁS',\n",
      "el alumno que esta por debajo del promedio es: 'Priscila',\n",
      "el alumno que esta por debajo del promedio es: 'Yanina'\n",
      "dict_items([(\"'Agustin',\", 111), (\"'Alan',\", 155), (\"'Andrés',\", 100), (\"'Ariadna',\", 108), (\"'Bautista',\", 99), (\"'CAROLINA',\", 134), (\"'CESAR',\", 78), (\"'David',\", 121), (\"'Diego',\", 33), (\"'Dolores',\", 53), (\"'DYLAN',\", 74), (\"'ELIANA',\", 13), (\"'Emanuel',\", 48), (\"'Fabián',\", 101), (\"'Facundo',\", 128), (\"'FEDERICO',\", 106), (\"'GONZALO',\", 76), (\"'Gregorio',\", 90), (\"'Ignacio',\", 21), (\"'Jonathan',\", 62), (\"'Jorge',\", 79), (\"'JOSE',\", 100), (\"'JUAN',\", 68), (\"'Juan',\", 112), (\"'Julian',\", 87), (\"'Julieta',\", 146), (\"'LAUTARO',\", 148), (\"'Leonel',\", 55), (\"'LUIS',\", 140), (\"'Luis',\", 109), (\"'Marcos',\", 103), (\"'María',\", 110), (\"'MATEO',\", 137), (\"'Matias',\", 114), (\"'Nicolás',\", 65), (\"'NICOLÁS',\", 22), (\"'Noelia',\", 105), (\"'Pablo',\", 99), (\"'Priscila',\", 24), (\"'TOMAS',\", 139), (\"'Tomás',\", 126), (\"'Ulises',\", 120), (\"'Yanina'\", 84)])\n",
      "93.09302325581395\n"
     ]
    }
   ],
   "source": [
    "archNombres=open('nombres_1.txt', 'r',encoding='utf-8')\n",
    "archEval1=open('eval1.txt', 'r',encoding='utf-8')\n",
    "archEval2=open('eval2.txt', 'r',encoding='utf-8')\n",
    "\n",
    "nombresAlumnos=archNombres.read().split()\n",
    "eval1=archEval1.read().split(',')\n",
    "eval2=archEval2.read().split(',')\n",
    " \n",
    "\n",
    "suma=0\n",
    "alumnosNotas={}\n",
    "\n",
    "for clave, nota1, nota2 in zip(nombresAlumnos, eval1, eval2):\n",
    "       alumnosNotas[clave]=(int(nota1)+int(nota2))\n",
    "\n",
    "for clave in alumnosNotas:\n",
    "    suma+=alumnosNotas[clave]\n",
    "\n",
    "promedio= 0 if len(alumnosNotas)==0 else suma / len(alumnosNotas)\n",
    "\n",
    "for clave in alumnosNotas:\n",
    "    if alumnosNotas[clave] < promedio:\n",
    "        print(\"el alumno que esta por debajo del promedio es:\",clave)\n",
    "\n",
    "print(alumnosNotas.items())\n",
    "print(promedio)\n",
    "\n",
    "archNombres.close()\n",
    "archEval1.close()\n",
    "archEval2.close()\n"
   ]
  }
 ],
 "metadata": {
  "kernelspec": {
   "display_name": "Python 3 (ipykernel)",
   "language": "python",
   "name": "python3"
  },
  "language_info": {
   "codemirror_mode": {
    "name": "ipython",
    "version": 3
   },
   "file_extension": ".py",
   "mimetype": "text/x-python",
   "name": "python",
   "nbconvert_exporter": "python",
   "pygments_lexer": "ipython3",
   "version": "3.10.0"
  }
 },
 "nbformat": 4,
 "nbformat_minor": 5
}
